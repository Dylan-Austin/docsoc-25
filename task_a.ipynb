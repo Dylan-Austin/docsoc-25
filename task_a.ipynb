{
 "cells": [
  {
   "cell_type": "markdown",
   "id": "04c50b11",
   "metadata": {},
   "source": [
    "# Task A: DataFrames in plain Python \n",
    "\n",
    "At Marshall Wace, we make decisions based on data, so tools for analysing it are something we spend a lot of time with. One of the building blocks of data engineering is a DataFrame which is a tabular structure that organises data into rows and columns. Many datasets can very naturally fit into this 2d structure which makes DataFrames incredibly useful for manipulation, analysis, and visualisation. \n",
    "\n",
    "There are many common libraries which implement this functionality and one of the commonly used ones is Pandas. For today's task, we will ask you to reimplement DataFrames in plain Python code, thinking about correctness, elegant design, and performance. We'll aim for a minimal implementation which can achieve the basic operations required for data manipulation but there is plenty of scope for extensions and optimisations!\n",
    "\n",
    "Don't worry if you don't know Pandas or feel unsure about programming in general! "
   ]
  },
  {
   "cell_type": "markdown",
   "id": "7f442094",
   "metadata": {},
   "source": [
    "## Requirements \n",
    "A `DataFrame` is a 2d tabular data structure. It can be thought of as a collection of named columns, which can be naturally represented by a dictionary of names to `Series`.\n",
    "\n",
    "A `Series` is a 1d collection which can be likened to a list or a vector of elements. Comparison and logical operators on `Series` is what makes `DataFrame`s so powerful. One thing that frustrates many data engineers using Pandas is how lousy it can be with type safety and treating `None` values. Thus, we encourage you to build your solution with those in mind.   \n",
    "\n",
    "There is nothing more frustrating when you want to quickly analyse some data and iterate on some approach but you have to wait a couple of minutes every time you run your script. Hence, efficiency is another aspect you'd ideally consider, either through some explicit optimisations or comments signifying 'hot spots', or parts of the code which the program spends the most time on.\n",
    "\n",
    "## Spec\n",
    "### Series\n",
    "We want you to implement `Series` for `string`s, `bool`s, `int`s, and `float`s. This should give us a good range of functionality while keeping the implementation reasonably simple. Feel free to do everything in one class, create a separate class for each, use inheritence, or whatever you think is best. In terms of functionality of each `Series`: \n",
    "- you'll want to be able to initialise it with a list of elements, each of which can be of the given type or `None`\n",
    "- each `Series` should be immutable and operations should return a new `Series` object\n",
    "- you should be able to read the element at a given index, as well as the lenght of a `Series`\n",
    "- you should be able to use equality operators (`==`, `!=`) which return a boolean `Series` with elements equal to the element-wise operator results\n",
    "- for the `Series` pairs which make sense, you should implement element-wise boolean operators (`|`, `&`,  `~`, `^`) and comparison operators (`<`, `>`, `<=`, `>=`) which also result in a boolean `Series`. Think carefully about how you want to handle `None`. Where appropriate, also add operators which work between a `Series` and a variable\n",
    "    - for instance `[1, 2, 3, 4] < 3` should return something like `[True, True, False, False]`\n",
    "- for convenience, it would be nice to be able to print the `Series` nicely formatted\n",
    "- (bonus) you can implement some aggregation methods which are commonly found in data analysis like `sum()`, `count()`, `mean()` or filtering capabilities \n",
    "\n",
    "### DataFrame\n",
    "With a solid `Series` implementation, we can start working on the `DataFrame`s\n",
    "- you should be able to initialise a `DataFrame` with a dictionary of names and `Series`\n",
    "- `DataFrame`s should be immutable and operators should return a new `DataFrame` as appropriate\n",
    "- they should be indexed by boolean `Series` which allows you to write code such as `df[(df[\"name\"] != \"Joe\") & (df[\"age\"] > 21)]` \n",
    "- for convenience, it would be nice to be able to pretty print the `DataFrame`s in a 2d form with middle rows and columns redacted for readability\n",
    "- (bonus) you can implement some `DataFrame`-wide aggregation, filtering, pivoting, or any of the common operations which make sense for a 2d table. Get creative!\n"
   ]
  },
  {
   "cell_type": "markdown",
   "id": "a2346a45c7088fc1",
   "metadata": {},
   "source": [
    "# Some basic implementation\n",
    "\n",
    "Below you can find partial implementation of two classes, `BooleanSeries` and `StringSeries`, which represent series of boolean and string values, respectively. These classes offer basic functionality for creating and comparing series of data, just to give you a taste of what we're looking for. What we have now:\n",
    "\n",
    "- `BooleanSeries`: Initialises a series of boolean values, with input validation\n",
    "- `StringSeries`: Initialises a series of string values, with input validation\n",
    "- Equality comparison (`__eq__`) between two `StringSeries` objects, returning a `BooleanSeries`\n",
    "- Basic indexing for `StringSeries` using `__getitem__`\n",
    "- String representation for both classes\n",
    "- `DataFrame`: Initialises a dataframe of series, with input validation\n",
    "- From CSV to handle file loading `from_csv` of CSV's into Dataframe\n",
    "- Basic column manipulation such as indexing `__getitem__`, adding columns `add_column` etc\n",
    "- Pretty printing of columnar wise data with `__str__`"
   ]
  },
  {
   "cell_type": "code",
   "execution_count": null,
   "id": "316812a4ac277a21",
   "metadata": {
    "ExecuteTime": {
     "end_time": "2025-02-25T21:56:44.740775Z",
     "start_time": "2025-02-25T21:56:44.733412Z"
    }
   },
   "outputs": [
    {
     "ename": "",
     "evalue": "",
     "output_type": "error",
     "traceback": [
      "\u001b[1;31mRunning cells with 'Python 3.12.3' requires the ipykernel package.\n",
      "\u001b[1;31m<a href='command:jupyter.createPythonEnvAndSelectController'>Create a Python Environment</a> with the required packages.\n",
      "\u001b[1;31mOr install 'ipykernel' using the command: '/bin/python -m pip install ipykernel -U --user --force-reinstall'"
     ]
    }
   ],
   "source": [
    "from typing import Union\n",
    "from types import NoneType\n",
    "import base64\n",
    "import csv\n",
    "import os\n",
    "from array import array"
   ]
  },
  {
   "cell_type": "code",
   "execution_count": null,
   "id": "b4a6c99b8532f5f0",
   "metadata": {
    "ExecuteTime": {
     "end_time": "2025-02-25T21:56:44.900693Z",
     "start_time": "2025-02-25T21:56:44.896607Z"
    }
   },
   "outputs": [],
   "source": [
    "class Series:\n",
    "    __slots__ = ('_data', 'dtype')\n",
    "\n",
    "    _noneHandling = 'contagious'\n",
    "    # Contagious - all binary operations involving None return None\n",
    "    # Strict - any attempted binary operation involving None will raise an error.\n",
    "    _contagiousOperations = ('')\n",
    "    _operationTypeSupport = {\n",
    "        '==' : {type(int), type(float), type(str)},\n",
    "        '!=' : {type(int), type(float), type(str)},\n",
    "        '&' : {type(int), type(bool)},\n",
    "        '|' : {type(int), type(bool)},\n",
    "        '^' : {type(int), type(bool)}\n",
    "    }\n",
    "    \n",
    "    @staticmethod\n",
    "    def setTypeCheckingMode(mode: str):\n",
    "        mode = mode.lower()\n",
    "        if mode not in (\"strict\", \"contagious\"):\n",
    "            raise ValueError(f\"{mode} is not a recognised type checking mode, expected one of (strict, contagious)\")\n",
    "        Series._typeChecking = mode\n",
    "    \n",
    "    def __init__(self, items: list[Union[bool, None]], dtype : type = NoneType, _checkType : bool = True):\n",
    "        if not _checkType:\n",
    "            if dtype == NoneType:\n",
    "                raise ValueError(\"Must provide dtype when _checkType is False\")\n",
    "            self.dtype = dtype\n",
    "            self._data = items\n",
    "            return\n",
    "\n",
    "        self.dtype = NoneType\n",
    "        self._data = []\n",
    "        for item in items:\n",
    "            if type(item) != NoneType :\n",
    "                if self.dtype != NoneType:\n",
    "                    raise ValueError(f\"Provided Series data contains multiple datatypes found {self.dtype} and {type(item)}\")\n",
    "                self.dtype = type(item)\n",
    "            self._data.append(item)\n",
    "    \n",
    "    def __getitem__(self, i):\n",
    "        if isinstance(i, slice):\n",
    "            return Series(self._data[i], dtype=self.dtype, _checkType=False)\n",
    "        return self._data[i]\n",
    "    \n",
    "    def __iter__(self):\n",
    "        return (x for x in self._data)\n",
    "    \n",
    "    def __len__(self):\n",
    "        return len(self._data)\n",
    "    \n",
    "    def __str__(self):\n",
    "        return str(self._data)\n",
    "    \n",
    "    def __repr__(self):\n",
    "        return f\"Series({self.__str__()}, dtype={self.dtype})\"\n",
    "\n",
    "    def _binary_op(self, b, op, op_name: str):\n",
    "        def handle(x, y):\n",
    "            # Contagious mode\n",
    "            if Series._noneHandling == 'contagious':\n",
    "                if x is None or y is None:\n",
    "                    return None if op_name in Series._contagiousOperations else op(x, y)\n",
    "                return op(x, y)\n",
    "            \n",
    "            # Strict mode\n",
    "            if x is None or y is None:\n",
    "                raise ValueError(f\"Attempted {op_name} with None type while in strict typing mode\")\n",
    "            return op(x, y)\n",
    "        \n",
    "        if isinstance(b, Series):\n",
    "            b_type = b.dtype\n",
    "            b_data = b._data\n",
    "        else:\n",
    "            b_type = type(b)\n",
    "            b_data = (b for _ in range(len(self)))\n",
    "        \n",
    "        allowed_types = Series._operationTypeSupport[op_name]\n",
    "        if not b_type in allowed_types or not self.dtype in allowed_types:\n",
    "            raise ValueError(f\"types {b_type}, {self.dtype} not supported for {op_name}\")\n",
    "\n",
    "\n",
    "        new_data = [handle(x, y) for x, y in zip(self._data, b_data)]\n",
    "        return Series(new_data)\n",
    "\n",
    "    def __eq__(self, b):  return self._binary_op(b, lambda x, y: x == y, \"==\")\n",
    "    def __ne__(self, b):  return self._binary_op(b, lambda x, y: x != y, \"!=\")\n",
    "    def __and__(self, b): return self._binary_op(b, lambda x, y: x & y, \"&\")\n",
    "    def __or__(self, b):  return self._binary_op(b, lambda x, y: x | y, \"|\")\n",
    "    def __xor__(self, b): return self._binary_op(b, lambda x, y: x ^ y, \"^\")\n",
    "\n",
    "    def __invert__(self):\n",
    "        return Series([~x for x in self._data], dtype=self.dtype, _checkType=False)\n"
   ]
  },
  {
   "cell_type": "markdown",
   "id": "46e8be0e",
   "metadata": {},
   "source": [
    "Creating example data"
   ]
  },
  {
   "cell_type": "code",
   "execution_count": null,
   "id": "74984186",
   "metadata": {},
   "outputs": [],
   "source": [
    "CSV_ENCODED_DATA = \"Q291bnRyeSxDaXR5LElzIENhcGl0YWwKSXRhbHksVHVyaW4sRmFsc2UKSmFwYW4sS3lvdG8sVHJ1ZQpDYW5hZGEsVG9yb250byxUcnVlCkNhbmFkYSxNb250cmVhbCxUcnVlClNwYWluLFNldmlsbGUsVHJ1ZQpGcmFuY2UsUGFyaXMsVHJ1ZQpKYXBhbixLeW90byxGYWxzZQpTcGFpbixaYXJhZ296YSxGYWxzZQpJdGFseSxSb21lLFRydWUKQXVzdHJhbGlhLFBlcnRoLEZhbHNlCkF1c3RyYWxpYSxCcmlzYmFuZSxUcnVlCkZyYW5jZSxOaWNlLFRydWUKQ2FuYWRhLFZhbmNvdXZlcixGYWxzZQpKYXBhbixOYWdveWEsRmFsc2UKSmFwYW4sS3lvdG8sRmFsc2UKQ2FuYWRhLE1vbnRyZWFsLFRydWUKQ2FuYWRhLE90dGF3YSxGYWxzZQpCcmF6aWwsU8OjbyBQYXVsbyxUcnVlCkF1c3RyYWxpYSxNZWxib3VybmUsVHJ1ZQpBdXN0cmFsaWEsU3lkbmV5LFRydWUK\"\n",
    "CSV_FILE_NAME = \"countries_and_cities.csv\"\n",
    "if not os.path.isfile(CSV_FILE_NAME):\n",
    "    csv_data = base64.b64decode(CSV_ENCODED_DATA)\n",
    "    with open(CSV_FILE_NAME, 'wb') as f:\n",
    "        f.write(csv_data)"
   ]
  },
  {
   "cell_type": "code",
   "execution_count": null,
   "id": "278bfcc5",
   "metadata": {},
   "outputs": [],
   "source": [
    "# your code goes here"
   ]
  }
 ],
 "metadata": {
  "kernelspec": {
   "display_name": "Python 3",
   "language": "python",
   "name": "python3"
  },
  "language_info": {
   "codemirror_mode": {
    "name": "ipython",
    "version": 3
   },
   "file_extension": ".py",
   "mimetype": "text/x-python",
   "name": "python",
   "nbconvert_exporter": "python",
   "pygments_lexer": "ipython3",
   "version": "3.12.3"
  }
 },
 "nbformat": 4,
 "nbformat_minor": 5
}
